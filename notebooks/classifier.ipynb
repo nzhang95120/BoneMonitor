{
 "cells": [
  {
   "cell_type": "code",
   "execution_count": 1,
   "metadata": {},
   "outputs": [],
   "source": [
    "import os\n",
    "import torch\n",
    "from torch.utils.data import DataLoader, random_split\n",
    "from torchvision import datasets, transforms"
   ]
  },
  {
   "cell_type": "code",
   "execution_count": 2,
   "metadata": {},
   "outputs": [
    {
     "name": "stdout",
     "output_type": "stream",
     "text": [
      "mps\n"
     ]
    }
   ],
   "source": [
    "device = torch.device(\"mps\")\n",
    "print(device)\n",
    "#mac m1"
   ]
  },
  {
   "cell_type": "code",
   "execution_count": 3,
   "metadata": {},
   "outputs": [],
   "source": [
    "base_path = '/Users/nat/Documents/GitHub/BoneMonitor/datasets/images'"
   ]
  },
  {
   "cell_type": "code",
   "execution_count": 4,
   "metadata": {},
   "outputs": [],
   "source": [
    "transform = transforms.Compose([\n",
    "    transforms.Resize((224, 224)),\n",
    "    transforms.ToTensor(),\n",
    "    transforms.Normalize(mean=[0.485, 0.456, 0.406], std=[0.229, 0.224, 0.225])\n",
    "])"
   ]
  },
  {
   "cell_type": "code",
   "execution_count": 5,
   "metadata": {},
   "outputs": [],
   "source": [
    "dataset = datasets.ImageFolder(root=base_path, transform=transform)"
   ]
  },
  {
   "cell_type": "code",
   "execution_count": 6,
   "metadata": {},
   "outputs": [],
   "source": [
    "train_size = int(0.9 * len(dataset))\n",
    "test_size = len(dataset) - train_size\n",
    "train_dataset, test_dataset = random_split(dataset, [train_size, test_size])"
   ]
  },
  {
   "cell_type": "code",
   "execution_count": 7,
   "metadata": {},
   "outputs": [],
   "source": [
    "train_loader = DataLoader(train_dataset, batch_size=4, shuffle=True)\n",
    "test_loader = DataLoader(test_dataset, batch_size=4, shuffle=False)\n",
    "\n",
    "\n",
    "#preprocessing dataset done"
   ]
  },
  {
   "cell_type": "code",
   "execution_count": 8,
   "metadata": {},
   "outputs": [
    {
     "name": "stdout",
     "output_type": "stream",
     "text": [
      "CNN(\n",
      "  (conv1): Conv2d(3, 16, kernel_size=(3, 3), stride=(1, 1), padding=(1, 1))\n",
      "  (bn1): BatchNorm2d(16, eps=1e-05, momentum=0.1, affine=True, track_running_stats=True)\n",
      "  (pool1): MaxPool2d(kernel_size=2, stride=2, padding=0, dilation=1, ceil_mode=False)\n",
      "  (conv2): Conv2d(16, 32, kernel_size=(3, 3), stride=(1, 1), padding=(1, 1))\n",
      "  (bn2): BatchNorm2d(32, eps=1e-05, momentum=0.1, affine=True, track_running_stats=True)\n",
      "  (pool2): MaxPool2d(kernel_size=2, stride=2, padding=0, dilation=1, ceil_mode=False)\n",
      "  (conv3): Conv2d(32, 64, kernel_size=(3, 3), stride=(1, 1), padding=(1, 1))\n",
      "  (bn3): BatchNorm2d(64, eps=1e-05, momentum=0.1, affine=True, track_running_stats=True)\n",
      "  (pool3): MaxPool2d(kernel_size=2, stride=2, padding=0, dilation=1, ceil_mode=False)\n",
      "  (fc1): Linear(in_features=50176, out_features=500, bias=True)\n",
      "  (fc2): Linear(in_features=500, out_features=2, bias=True)\n",
      "  (dropout): Dropout(p=0.5, inplace=False)\n",
      ")\n"
     ]
    }
   ],
   "source": [
    "import torch\n",
    "import torch.nn as nn\n",
    "import torch.nn.functional as F\n",
    "\n",
    "class CNN(nn.Module):\n",
    "    def __init__(self):\n",
    "        super(CNN, self).__init__()\n",
    "        self.conv1 = nn.Conv2d(in_channels=3, out_channels=16, kernel_size=3, padding=1)\n",
    "        self.bn1 = nn.BatchNorm2d(16)\n",
    "        self.pool1 = nn.MaxPool2d(kernel_size=2, stride=2)\n",
    "        self.conv2 = nn.Conv2d(in_channels=16, out_channels=32, kernel_size=3, padding=1)\n",
    "        self.bn2 = nn.BatchNorm2d(32)\n",
    "        self.pool2 = nn.MaxPool2d(kernel_size=2, stride=2)\n",
    "        self.conv3 = nn.Conv2d(in_channels=32, out_channels=64, kernel_size=3, padding=1)\n",
    "        self.bn3 = nn.BatchNorm2d(64)\n",
    "        self.pool3 = nn.MaxPool2d(kernel_size=2, stride=2)\n",
    "        self.fc1 = nn.Linear(64 * 28 * 28, 500)\n",
    "        self.fc2 = nn.Linear(500, 2)\n",
    "        self.dropout = nn.Dropout(0.5)\n",
    "\n",
    "    def forward(self, x):\n",
    "        x = self.pool1(F.relu(self.bn1(self.conv1(x))))\n",
    "        x = self.pool2(F.relu(self.bn2(self.conv2(x))))\n",
    "        x = self.pool3(F.relu(self.bn3(self.conv3(x))))\n",
    "        x = x.view(-1, 64 * 28 * 28)\n",
    "        x = self.dropout(x)\n",
    "        x = F.relu(self.fc1(x))\n",
    "        x = self.dropout(x)\n",
    "        x = self.fc2(x)\n",
    "        return x\n",
    "\n",
    "# Initialize the CNN\n",
    "model = CNN()\n",
    "model.to(device)\n",
    "\n",
    "print(model)\n"
   ]
  },
  {
   "cell_type": "code",
   "execution_count": 9,
   "metadata": {},
   "outputs": [
    {
     "name": "stdout",
     "output_type": "stream",
     "text": [
      "Epoch: 1/20 \tTraining Loss: 0.641987 \tValidation Loss: 0.566071 \tTraining Accuracy: 62.78% \tValidation Accuracy: 72.00%\n",
      "Epoch: 2/20 \tTraining Loss: 0.555499 \tValidation Loss: 0.519354 \tTraining Accuracy: 71.15% \tValidation Accuracy: 76.00%\n",
      "Epoch: 3/20 \tTraining Loss: 0.497224 \tValidation Loss: 0.528550 \tTraining Accuracy: 77.73% \tValidation Accuracy: 73.33%\n",
      "Epoch: 4/20 \tTraining Loss: 0.480880 \tValidation Loss: 0.509732 \tTraining Accuracy: 75.78% \tValidation Accuracy: 74.67%\n",
      "Epoch: 5/20 \tTraining Loss: 0.465401 \tValidation Loss: 0.508281 \tTraining Accuracy: 77.13% \tValidation Accuracy: 77.33%\n",
      "Epoch: 6/20 \tTraining Loss: 0.453705 \tValidation Loss: 0.497525 \tTraining Accuracy: 78.18% \tValidation Accuracy: 74.67%\n",
      "Epoch: 7/20 \tTraining Loss: 0.436232 \tValidation Loss: 0.502613 \tTraining Accuracy: 79.67% \tValidation Accuracy: 73.33%\n",
      "Epoch: 8/20 \tTraining Loss: 0.426372 \tValidation Loss: 0.497493 \tTraining Accuracy: 80.42% \tValidation Accuracy: 77.33%\n",
      "Epoch: 9/20 \tTraining Loss: 0.404695 \tValidation Loss: 0.488971 \tTraining Accuracy: 80.57% \tValidation Accuracy: 73.33%\n",
      "Epoch: 10/20 \tTraining Loss: 0.390903 \tValidation Loss: 0.484256 \tTraining Accuracy: 81.02% \tValidation Accuracy: 74.67%\n",
      "Epoch: 11/20 \tTraining Loss: 0.389195 \tValidation Loss: 0.482444 \tTraining Accuracy: 83.26% \tValidation Accuracy: 77.33%\n",
      "Epoch: 12/20 \tTraining Loss: 0.374978 \tValidation Loss: 0.450210 \tTraining Accuracy: 82.96% \tValidation Accuracy: 73.33%\n",
      "Epoch: 13/20 \tTraining Loss: 0.369608 \tValidation Loss: 0.455791 \tTraining Accuracy: 82.96% \tValidation Accuracy: 80.00%\n",
      "Epoch: 14/20 \tTraining Loss: 0.370768 \tValidation Loss: 0.489137 \tTraining Accuracy: 83.26% \tValidation Accuracy: 80.00%\n",
      "Epoch: 15/20 \tTraining Loss: 0.345871 \tValidation Loss: 0.445516 \tTraining Accuracy: 85.65% \tValidation Accuracy: 74.67%\n",
      "Epoch: 16/20 \tTraining Loss: 0.327863 \tValidation Loss: 0.436650 \tTraining Accuracy: 85.95% \tValidation Accuracy: 84.00%\n",
      "Epoch: 17/20 \tTraining Loss: 0.335653 \tValidation Loss: 0.428037 \tTraining Accuracy: 86.85% \tValidation Accuracy: 81.33%\n",
      "Epoch: 18/20 \tTraining Loss: 0.304317 \tValidation Loss: 0.447794 \tTraining Accuracy: 88.19% \tValidation Accuracy: 80.00%\n",
      "Epoch: 19/20 \tTraining Loss: 0.306594 \tValidation Loss: 0.402218 \tTraining Accuracy: 87.89% \tValidation Accuracy: 84.00%\n",
      "Epoch: 20/20 \tTraining Loss: 0.308866 \tValidation Loss: 0.413457 \tTraining Accuracy: 87.89% \tValidation Accuracy: 81.33%\n"
     ]
    }
   ],
   "source": [
    "import torch.optim as optim\n",
    "\n",
    "# Loss function\n",
    "criterion = nn.CrossEntropyLoss()\n",
    "\n",
    "# Optimizer\n",
    "optimizer = optim.SGD(model.parameters(), lr=0.0001)\n",
    "\n",
    "# Number of epochs\n",
    "n_epochs = 20\n",
    "\n",
    "# Track changes in accuracy and loss\n",
    "train_losses, test_losses, train_accuracy, test_accuracy = [], [], [], []\n",
    "\n",
    "for epoch in range(1, n_epochs+1):\n",
    "    train_loss = 0.0\n",
    "    correct = 0\n",
    "    total = 0\n",
    "\n",
    "    # Training the model\n",
    "    model.train()\n",
    "    for data, target in train_loader:\n",
    "        data, target = data.to(device), target.to(device)\n",
    "        optimizer.zero_grad()\n",
    "        output = model(data)\n",
    "        loss = criterion(output, target)\n",
    "        loss.backward()\n",
    "        optimizer.step()\n",
    "        train_loss += loss.item() * data.size(0)\n",
    "        _, predicted = torch.max(output.data, 1)\n",
    "        total += target.size(0)\n",
    "        correct += (predicted == target).sum().item()\n",
    "\n",
    "    train_losses.append(train_loss/len(train_loader.dataset))\n",
    "    train_accuracy.append(100 * correct / total)\n",
    "\n",
    "    test_loss = 0.0\n",
    "    correct = 0\n",
    "    total = 0\n",
    "\n",
    "    # Validating the model\n",
    "    model.eval()\n",
    "    with torch.no_grad():\n",
    "        for data, target in test_loader:\n",
    "            data, target = data.to(device), target.to(device)\n",
    "            output = model(data)\n",
    "            loss = criterion(output, target)\n",
    "            test_loss += loss.item() * data.size(0)\n",
    "            _, predicted = torch.max(output.data, 1)\n",
    "            total += target.size(0)\n",
    "            correct += (predicted == target).sum().item()\n",
    "\n",
    "    test_losses.append(test_loss/len(test_loader.dataset))\n",
    "    test_accuracy.append(100 * correct / total)\n",
    "\n",
    "    print(f'Epoch: {epoch}/{n_epochs} \\tTraining Loss: {train_losses[-1]:.6f} \\tValidation Loss: {test_losses[-1]:.6f} \\tTraining Accuracy: {train_accuracy[-1]:.2f}% \\tValidation Accuracy: {test_accuracy[-1]:.2f}%')\n"
   ]
  },
  {
   "cell_type": "code",
   "execution_count": 10,
   "metadata": {},
   "outputs": [],
   "source": [
    "model_dir = '/Users/nat/Documents/GitHub/BoneMonitor/models'\n",
    "if not os.path.exists(model_dir):\n",
    "    os.makedirs(model_dir)"
   ]
  },
  {
   "cell_type": "code",
   "execution_count": null,
   "metadata": {},
   "outputs": [],
   "source": []
  },
  {
   "cell_type": "code",
   "execution_count": 12,
   "metadata": {},
   "outputs": [
    {
     "name": "stdout",
     "output_type": "stream",
     "text": [
      "Model saved to /Users/nat/Documents/GitHub/BoneMonitor/models/classifier.pth\n"
     ]
    }
   ],
   "source": [
    "model_path = os.path.join(model_dir, 'classifier.pth')\n",
    "\n",
    "# Save the model state\n",
    "torch.save(model.state_dict(), model_path)\n",
    "print(f\"Model saved to {model_path}\")"
   ]
  },
  {
   "cell_type": "code",
   "execution_count": 14,
   "metadata": {},
   "outputs": [
    {
     "name": "stdout",
     "output_type": "stream",
     "text": [
      "{'normal': 0, 'osteoporosis': 1}\n"
     ]
    }
   ],
   "source": [
    "from torchvision import datasets\n",
    "\n",
    "# Assume your dataset is loaded using ImageFolder\n",
    "dataset = datasets.ImageFolder(root=base_path)\n",
    "\n",
    "# Print class to index mapping\n",
    "print(dataset.class_to_idx)"
   ]
  },
  {
   "cell_type": "markdown",
   "metadata": {},
   "source": []
  }
 ],
 "metadata": {
  "kernelspec": {
   "display_name": "Python 3",
   "language": "python",
   "name": "python3"
  },
  "language_info": {
   "codemirror_mode": {
    "name": "ipython",
    "version": 3
   },
   "file_extension": ".py",
   "mimetype": "text/x-python",
   "name": "python",
   "nbconvert_exporter": "python",
   "pygments_lexer": "ipython3",
   "version": "3.10.11"
  }
 },
 "nbformat": 4,
 "nbformat_minor": 2
}
